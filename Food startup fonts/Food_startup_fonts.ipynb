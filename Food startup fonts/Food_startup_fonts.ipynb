{
 "cells": [
  {
   "cell_type": "markdown",
   "metadata": {
    "toc": true
   },
   "source": [
    "<h1>Содержание<span class=\"tocSkip\"></span></h1>\n",
    "<div class=\"toc\"><ul class=\"toc-item\"><li><span><a href=\"#Предобработка-данных\" data-toc-modified-id=\"Предобработка-данных-1\">Предобработка данных</a></span></li><li><span><a href=\"#Исследование-исходных-данных\" data-toc-modified-id=\"Исследование-исходных-данных-2\">Исследование исходных данных</a></span></li><li><span><a href=\"#Анализ-воронки-событий\" data-toc-modified-id=\"Анализ-воронки-событий-3\">Анализ воронки событий</a></span></li><li><span><a href=\"#Анализ-результатов-эксперимента\" data-toc-modified-id=\"Анализ-результатов-эксперимента-4\">Анализ результатов эксперимента</a></span><ul class=\"toc-item\"><li><span><a href=\"#Сравнение-А/А-групп\" data-toc-modified-id=\"Сравнение-А/А-групп-4.1\">Сравнение А/А-групп</a></span></li><li><span><a href=\"#Сравнение-экспериментальных-групп\" data-toc-modified-id=\"Сравнение-экспериментальных-групп-4.2\">Сравнение экспериментальных групп</a></span></li></ul></li><li><span><a href=\"#Вывод\" data-toc-modified-id=\"Вывод-5\">Вывод</a></span></li></ul></div>"
   ]
  },
  {
   "cell_type": "markdown",
   "metadata": {},
   "source": [
    "# Оценка результатов A/А/В-теста в мобильном приложении стартапа по продаже продуктов питания"
   ]
  },
  {
   "cell_type": "markdown",
   "metadata": {},
   "source": [
    "**Объект исследования**: результаты А/А/В-эксперимента со шрифтами во всем приложении. Пользователей разбили на 3 группы: 2 контрольные со старыми шрифтами и одну экспериментальную — с новыми.\n",
    "\n",
    "**Цель исследования**: оценить различие среди пользователей приложения с разными шрифтами. \n",
    "\n",
    "**Задачи**:\n",
    "- Изучить воронку продаж. Как пользователи доходят до покупки? Сколько пользователей доходит до покупки, а сколько — «застревает» на предыдущих шагах? На каких именно?\n",
    "- Оценить точность А/В теста сравнением контрольных А/А групп\n",
    "- Проанализировать результаты А/А/В-теста\n",
    "\n",
    "**Данные**: логи пользователей в контрольных группах 246, 247 и в экспериментальной группе 248."
   ]
  },
  {
   "cell_type": "markdown",
   "metadata": {},
   "source": [
    "## Предобработка данных"
   ]
  },
  {
   "cell_type": "markdown",
   "metadata": {},
   "source": [
    "Сразу загружаем все необходимые для дальнейшей работы бибилотеки, а также исходные данные."
   ]
  },
  {
   "cell_type": "code",
   "execution_count": 1,
   "metadata": {},
   "outputs": [],
   "source": [
    "# сразу загрузим все необходимые библиотеки\n",
    "import pandas as pd\n",
    "import math as mth\n",
    "import datetime as dt\n",
    "import numpy as np\n",
    "import scipy.stats as stats\n",
    "import matplotlib.pyplot as plt\n",
    "from pandas.plotting import register_matplotlib_converters\n",
    "import plotly.graph_objects as go\n",
    "from plotly.offline import init_notebook_mode, iplot\n",
    "import warnings\n",
    "\n",
    "# конвертеры, которые позволяют использовать типы pandas в matplotlib  \n",
    "register_matplotlib_converters()"
   ]
  },
  {
   "cell_type": "code",
   "execution_count": 2,
   "metadata": {},
   "outputs": [],
   "source": [
    "# загружаем данные, расположенные локально\n",
    "data = pd.read_csv('logs_exp.csv', sep='\\t')"
   ]
  },
  {
   "cell_type": "code",
   "execution_count": 3,
   "metadata": {},
   "outputs": [
    {
     "name": "stdout",
     "output_type": "stream",
     "text": [
      "<class 'pandas.core.frame.DataFrame'>\n",
      "RangeIndex: 244126 entries, 0 to 244125\n",
      "Data columns (total 4 columns):\n",
      " #   Column          Non-Null Count   Dtype \n",
      "---  ------          --------------   ----- \n",
      " 0   EventName       244126 non-null  object\n",
      " 1   DeviceIDHash    244126 non-null  int64 \n",
      " 2   EventTimestamp  244126 non-null  int64 \n",
      " 3   ExpId           244126 non-null  int64 \n",
      "dtypes: int64(3), object(1)\n",
      "memory usage: 7.5+ MB\n"
     ]
    },
    {
     "data": {
      "text/html": [
       "<div>\n",
       "<style scoped>\n",
       "    .dataframe tbody tr th:only-of-type {\n",
       "        vertical-align: middle;\n",
       "    }\n",
       "\n",
       "    .dataframe tbody tr th {\n",
       "        vertical-align: top;\n",
       "    }\n",
       "\n",
       "    .dataframe thead th {\n",
       "        text-align: right;\n",
       "    }\n",
       "</style>\n",
       "<table border=\"1\" class=\"dataframe\">\n",
       "  <thead>\n",
       "    <tr style=\"text-align: right;\">\n",
       "      <th></th>\n",
       "      <th>EventName</th>\n",
       "      <th>DeviceIDHash</th>\n",
       "      <th>EventTimestamp</th>\n",
       "      <th>ExpId</th>\n",
       "    </tr>\n",
       "  </thead>\n",
       "  <tbody>\n",
       "    <tr>\n",
       "      <th>0</th>\n",
       "      <td>MainScreenAppear</td>\n",
       "      <td>4575588528974610257</td>\n",
       "      <td>1564029816</td>\n",
       "      <td>246</td>\n",
       "    </tr>\n",
       "    <tr>\n",
       "      <th>1</th>\n",
       "      <td>MainScreenAppear</td>\n",
       "      <td>7416695313311560658</td>\n",
       "      <td>1564053102</td>\n",
       "      <td>246</td>\n",
       "    </tr>\n",
       "    <tr>\n",
       "      <th>2</th>\n",
       "      <td>PaymentScreenSuccessful</td>\n",
       "      <td>3518123091307005509</td>\n",
       "      <td>1564054127</td>\n",
       "      <td>248</td>\n",
       "    </tr>\n",
       "    <tr>\n",
       "      <th>3</th>\n",
       "      <td>CartScreenAppear</td>\n",
       "      <td>3518123091307005509</td>\n",
       "      <td>1564054127</td>\n",
       "      <td>248</td>\n",
       "    </tr>\n",
       "    <tr>\n",
       "      <th>4</th>\n",
       "      <td>PaymentScreenSuccessful</td>\n",
       "      <td>6217807653094995999</td>\n",
       "      <td>1564055322</td>\n",
       "      <td>248</td>\n",
       "    </tr>\n",
       "  </tbody>\n",
       "</table>\n",
       "</div>"
      ],
      "text/plain": [
       "                 EventName         DeviceIDHash  EventTimestamp  ExpId\n",
       "0         MainScreenAppear  4575588528974610257      1564029816    246\n",
       "1         MainScreenAppear  7416695313311560658      1564053102    246\n",
       "2  PaymentScreenSuccessful  3518123091307005509      1564054127    248\n",
       "3         CartScreenAppear  3518123091307005509      1564054127    248\n",
       "4  PaymentScreenSuccessful  6217807653094995999      1564055322    248"
      ]
     },
     "execution_count": 3,
     "metadata": {},
     "output_type": "execute_result"
    }
   ],
   "source": [
    "# общая оценка доступных данных\n",
    "data.info()\n",
    "data.head()"
   ]
  },
  {
   "cell_type": "markdown",
   "metadata": {},
   "source": [
    "Пропуски отсутствуют. Переименуем столбцы. Отметим, что значения столбца 'DeviceIDHash' на самом деле не обязательно соответствуют уникальным пользователям (например, один пользователь может заходить с разных устройств), но из-за отсутствия других данных можно принять их по смыслу равными."
   ]
  },
  {
   "cell_type": "code",
   "execution_count": 4,
   "metadata": {},
   "outputs": [],
   "source": [
    "# переименуем столбцы\n",
    "data = data.rename(columns = {'EventName' : 'event_name', \n",
    "                              'DeviceIDHash' : 'user_id', \n",
    "                              'EventTimestamp' : 'event_ts', \n",
    "                              'ExpId' : 'group'})"
   ]
  },
  {
   "cell_type": "markdown",
   "metadata": {},
   "source": [
    "Исходные данные о времени событий даны в формате UNIX. Добавим столбец с временем в обычном формате и только с датой события."
   ]
  },
  {
   "cell_type": "code",
   "execution_count": 5,
   "metadata": {},
   "outputs": [
    {
     "name": "stdout",
     "output_type": "stream",
     "text": [
      "<class 'pandas.core.frame.DataFrame'>\n",
      "RangeIndex: 244126 entries, 0 to 244125\n",
      "Data columns (total 6 columns):\n",
      " #   Column           Non-Null Count   Dtype         \n",
      "---  ------           --------------   -----         \n",
      " 0   event_name       244126 non-null  object        \n",
      " 1   user_id          244126 non-null  int64         \n",
      " 2   event_ts         244126 non-null  int64         \n",
      " 3   group            244126 non-null  int64         \n",
      " 4   event_timestamp  244126 non-null  datetime64[ns]\n",
      " 5   event_date       244126 non-null  datetime64[ns]\n",
      "dtypes: datetime64[ns](2), int64(3), object(1)\n",
      "memory usage: 11.2+ MB\n"
     ]
    },
    {
     "data": {
      "text/html": [
       "<div>\n",
       "<style scoped>\n",
       "    .dataframe tbody tr th:only-of-type {\n",
       "        vertical-align: middle;\n",
       "    }\n",
       "\n",
       "    .dataframe tbody tr th {\n",
       "        vertical-align: top;\n",
       "    }\n",
       "\n",
       "    .dataframe thead th {\n",
       "        text-align: right;\n",
       "    }\n",
       "</style>\n",
       "<table border=\"1\" class=\"dataframe\">\n",
       "  <thead>\n",
       "    <tr style=\"text-align: right;\">\n",
       "      <th></th>\n",
       "      <th>event_name</th>\n",
       "      <th>user_id</th>\n",
       "      <th>event_ts</th>\n",
       "      <th>group</th>\n",
       "      <th>event_timestamp</th>\n",
       "      <th>event_date</th>\n",
       "    </tr>\n",
       "  </thead>\n",
       "  <tbody>\n",
       "    <tr>\n",
       "      <th>0</th>\n",
       "      <td>MainScreenAppear</td>\n",
       "      <td>4575588528974610257</td>\n",
       "      <td>1564029816</td>\n",
       "      <td>246</td>\n",
       "      <td>2019-07-25 04:43:36</td>\n",
       "      <td>2019-07-25</td>\n",
       "    </tr>\n",
       "    <tr>\n",
       "      <th>1</th>\n",
       "      <td>MainScreenAppear</td>\n",
       "      <td>7416695313311560658</td>\n",
       "      <td>1564053102</td>\n",
       "      <td>246</td>\n",
       "      <td>2019-07-25 11:11:42</td>\n",
       "      <td>2019-07-25</td>\n",
       "    </tr>\n",
       "    <tr>\n",
       "      <th>2</th>\n",
       "      <td>PaymentScreenSuccessful</td>\n",
       "      <td>3518123091307005509</td>\n",
       "      <td>1564054127</td>\n",
       "      <td>248</td>\n",
       "      <td>2019-07-25 11:28:47</td>\n",
       "      <td>2019-07-25</td>\n",
       "    </tr>\n",
       "    <tr>\n",
       "      <th>3</th>\n",
       "      <td>CartScreenAppear</td>\n",
       "      <td>3518123091307005509</td>\n",
       "      <td>1564054127</td>\n",
       "      <td>248</td>\n",
       "      <td>2019-07-25 11:28:47</td>\n",
       "      <td>2019-07-25</td>\n",
       "    </tr>\n",
       "    <tr>\n",
       "      <th>4</th>\n",
       "      <td>PaymentScreenSuccessful</td>\n",
       "      <td>6217807653094995999</td>\n",
       "      <td>1564055322</td>\n",
       "      <td>248</td>\n",
       "      <td>2019-07-25 11:48:42</td>\n",
       "      <td>2019-07-25</td>\n",
       "    </tr>\n",
       "  </tbody>\n",
       "</table>\n",
       "</div>"
      ],
      "text/plain": [
       "                event_name              user_id    event_ts  group  \\\n",
       "0         MainScreenAppear  4575588528974610257  1564029816    246   \n",
       "1         MainScreenAppear  7416695313311560658  1564053102    246   \n",
       "2  PaymentScreenSuccessful  3518123091307005509  1564054127    248   \n",
       "3         CartScreenAppear  3518123091307005509  1564054127    248   \n",
       "4  PaymentScreenSuccessful  6217807653094995999  1564055322    248   \n",
       "\n",
       "      event_timestamp event_date  \n",
       "0 2019-07-25 04:43:36 2019-07-25  \n",
       "1 2019-07-25 11:11:42 2019-07-25  \n",
       "2 2019-07-25 11:28:47 2019-07-25  \n",
       "3 2019-07-25 11:28:47 2019-07-25  \n",
       "4 2019-07-25 11:48:42 2019-07-25  "
      ]
     },
     "execution_count": 5,
     "metadata": {},
     "output_type": "execute_result"
    }
   ],
   "source": [
    "# добавим столбец с датой и временем в стандартном виде\n",
    "data['event_timestamp'] = pd.to_datetime(data['event_ts'], unit='s')\n",
    "\n",
    "# добавим столбец только с датой события\n",
    "data['event_date'] = pd.to_datetime(data['event_timestamp'].dt.date)\n",
    "\n",
    "data.info()\n",
    "data.head()"
   ]
  },
  {
   "cell_type": "markdown",
   "metadata": {},
   "source": [
    "Проверим датафрейм на наличие дубликатов и удалим их, если они есть. "
   ]
  },
  {
   "cell_type": "code",
   "execution_count": 6,
   "metadata": {
    "scrolled": false
   },
   "outputs": [
    {
     "name": "stdout",
     "output_type": "stream",
     "text": [
      "Дубликатов: 413\n",
      "\n",
      "<class 'pandas.core.frame.DataFrame'>\n",
      "Int64Index: 243713 entries, 0 to 244125\n",
      "Data columns (total 6 columns):\n",
      " #   Column           Non-Null Count   Dtype         \n",
      "---  ------           --------------   -----         \n",
      " 0   event_name       243713 non-null  object        \n",
      " 1   user_id          243713 non-null  int64         \n",
      " 2   event_ts         243713 non-null  int64         \n",
      " 3   group            243713 non-null  int64         \n",
      " 4   event_timestamp  243713 non-null  datetime64[ns]\n",
      " 5   event_date       243713 non-null  datetime64[ns]\n",
      "dtypes: datetime64[ns](2), int64(3), object(1)\n",
      "memory usage: 13.0+ MB\n"
     ]
    }
   ],
   "source": [
    "print('Дубликатов:', data.duplicated().sum())\n",
    "print()\n",
    "data = data.drop_duplicates()\n",
    "data.info()"
   ]
  },
  {
   "cell_type": "markdown",
   "metadata": {},
   "source": [
    "Датафрейм содержит данные о 244 тысячах событий. Исходные данные о времени даны в формате UNIX и для дальнейшего анализа были переведены в более привычный вид. Названия столбцов датафрейма приведены к стандартному виду. Было обнаружено и удалено 413 строк-дубликатов. "
   ]
  },
  {
   "cell_type": "markdown",
   "metadata": {},
   "source": [
    "## Исследование исходных данных"
   ]
  },
  {
   "cell_type": "markdown",
   "metadata": {},
   "source": [
    "Исследуем доступные данные. Найдем количество уникальных пользователей и среднее количество событий на одного пользователя."
   ]
  },
  {
   "cell_type": "code",
   "execution_count": 7,
   "metadata": {},
   "outputs": [
    {
     "name": "stdout",
     "output_type": "stream",
     "text": [
      "В датасете доступны данные о 7551 уникальном пользователе.\n",
      "Среднее количество событий на пользователя:  32\n"
     ]
    }
   ],
   "source": [
    "# количество уникальных пользователей\n",
    "print(f\"В датасете доступны данные о {data['user_id'].nunique()} уникальном пользователе.\")\n",
    "print(f\"Среднее количество событий на пользователя: {len(data['user_id']) / data['user_id'].nunique(): .0f}\")"
   ]
  },
  {
   "cell_type": "markdown",
   "metadata": {},
   "source": [
    "Всего в таблице данные о 244 тысячах событий и 7551 уникальном пользователе. \n",
    "На каждого пользователя в среднем приходится 32 события. \n",
    "\n",
    "Исследуем распределение количества событий по пользователям. Для этого сгруппируем данные по идентификаторам пользователей, посчитаем количество событий и отразим это на гистограмме и на \"графике с усами\"."
   ]
  },
  {
   "cell_type": "code",
   "execution_count": 8,
   "metadata": {},
   "outputs": [
    {
     "data": {
      "image/png": "[encoded data removed]",
      "text/plain": [
       "<Figure size 1000x400 with 2 Axes>"
      ]
     },
     "metadata": {},
     "output_type": "display_data"
    }
   ],
   "source": [
    "fig, (ax1, ax2) = plt.subplots(nrows=1, ncols=2,\n",
    "                              figsize=(10, 4))\n",
    "ax1.hist(data.groupby('user_id').agg({'event_name' : 'count'}),\n",
    "        bins=100)\n",
    "ax1.set_title('Кол-во событий на пользователя')\n",
    "ax1.set_ylabel('Количество событий')\n",
    "ax1.set_xlabel('Количество пользователей')\n",
    "\n",
    "ax2.boxplot(data.groupby('user_id').agg({'event_name' : 'count'}),\n",
    "           showmeans=True)\n",
    "ax2.set_title('Кол-во событий на пользователя (нормальные значения)')\n",
    "ax2.set_ylim(0,80)\n",
    "ax2.set_ylabel('Количество событий');"
   ]
  },
  {
   "cell_type": "markdown",
   "metadata": {},
   "source": [
    "Найдем максимальное количество событий, приходящееся на одного пользователя."
   ]
  },
  {
   "cell_type": "code",
   "execution_count": 9,
   "metadata": {
    "scrolled": false
   },
   "outputs": [
    {
     "name": "stdout",
     "output_type": "stream",
     "text": [
      "Максимальное количество событий на пользователя: 2307\n"
     ]
    }
   ],
   "source": [
    "print(f\"Максимальное количество событий на пользователя: {data.groupby('user_id').agg({'event_name' : 'count'}).max()[0]}\")"
   ]
  },
  {
   "cell_type": "markdown",
   "metadata": {},
   "source": [
    "На большую часть пользователей приходится не более 80 событий, однако есть аномальные пользователи, для которых количество событий достигает 2307. Медианное значение находится на уровне 20 событий на пользователя. Среднее значение (32 события на пользователя) больше медианного, что обусловлено наличием выбросов.\n",
    "\n",
    "Узнаем даты проведения эксперимента и построим распределение событий по времени. "
   ]
  },
  {
   "cell_type": "code",
   "execution_count": 10,
   "metadata": {
    "scrolled": false
   },
   "outputs": [
    {
     "name": "stdout",
     "output_type": "stream",
     "text": [
      "Минимальная дата: 2019-07-25 04:43:36\n",
      "Максимальная дата: 2019-08-07 21:15:17\n"
     ]
    },
    {
     "data": {
      "image/png": "[encoded data removed]",
      "text/plain": [
       "<Figure size 1200x400 with 1 Axes>"
      ]
     },
     "metadata": {},
     "output_type": "display_data"
    }
   ],
   "source": [
    "print('Минимальная дата:', data['event_timestamp'].min())\n",
    "print('Максимальная дата:', data['event_timestamp'].max())\n",
    "\n",
    "data['event_timestamp'].hist(figsize=(12, 4), bins=14*24)\n",
    "plt.title('Распределение событий по дате и времени')\n",
    "plt.xlabel('Дата события')\n",
    "plt.ylabel('Количество событий');"
   ]
  },
  {
   "cell_type": "markdown",
   "metadata": {},
   "source": [
    "Минимальная дата, доступная в логе, – 25 июля 2019, максимальная – 7 августа 2019 года. Однако, по гистограмме видно, что данных за период до 1 августа очень мало. Скорее всего, это просто старые логи, которые \"доехали\" в выборку. Поэтому для дальнейшего анализа отберем только период с 1 по 7 августа. Основное количество событий происходит в дневное время, что видно по форме пиков на гистограмме.\n",
    "\n",
    "Оценим, сколько данных не войдет в дальнейший анализ после фильтрации по дате. "
   ]
  },
  {
   "cell_type": "code",
   "execution_count": 11,
   "metadata": {},
   "outputs": [
    {
     "name": "stdout",
     "output_type": "stream",
     "text": [
      "Число потерянных событий: 2826\n",
      "Доля потерянных событий:  1.2%\n",
      "Число потерянных пользователей: 17\n",
      "Доля потерянных пользователей:  0.2%\n"
     ]
    }
   ],
   "source": [
    "print('Число потерянных событий:', data[data['event_timestamp'] < '2019-08-01']['event_name'].count())\n",
    "print(f\"Доля потерянных событий: {(data[data['event_timestamp'] < '2019-08-01']['event_name'].count()) / data.shape[0]: .1%}\")\n",
    "\n",
    "# количество уникальных пользователей в исходных данных\n",
    "before_users = data['user_id'].nunique() \n",
    "# кол-во пользователей в данных за 1 по 7 августа\n",
    "after_users = data[data['event_timestamp'] >= '2019-08-01']['user_id'].nunique() \n",
    "\n",
    "\n",
    "print('Число потерянных пользователей:', before_users - after_users)\n",
    "print(f'Доля потерянных пользователей: {(before_users - after_users) / before_users: .1%}')"
   ]
  },
  {
   "cell_type": "markdown",
   "metadata": {},
   "source": [
    "Общее число событий до 1 августа 2019 равно 2826, это примерно 1% от всех событий в логе. Число потерянных пользователей при очистке по дате равна 17, что составляет всего 0.2% от общего количества пользователей в логе.  \n",
    "\n",
    "Фильтруем данные по дате, строим новое распределение."
   ]
  },
  {
   "cell_type": "code",
   "execution_count": 12,
   "metadata": {},
   "outputs": [
    {
     "name": "stdout",
     "output_type": "stream",
     "text": [
      "Минимальная дата: 2019-08-01 00:07:28\n",
      "Максимальная дата: 2019-08-07 21:15:17\n",
      "Осталось уникальных пользователей: 7534\n"
     ]
    },
    {
     "data": {
      "image/png": "[encoded data removed]",
      "text/plain": [
       "<Figure size 1000x400 with 1 Axes>"
      ]
     },
     "metadata": {},
     "output_type": "display_data"
    }
   ],
   "source": [
    "# оставляем события только с 1 по 7 августа 2019\n",
    "data = data[data['event_timestamp'] >= '2019-08-01']\n",
    "# проверяем данные после фильтрации\n",
    "print('Минимальная дата:', data['event_timestamp'].min())\n",
    "print('Максимальная дата:', data['event_timestamp'].max())\n",
    "print('Осталось уникальных пользователей:', data['user_id'].nunique())\n",
    "\n",
    "data['event_timestamp'].hist(figsize=(10, 4), bins=7*24)\n",
    "plt.title('Распределение событий по дате и времени')\n",
    "plt.xlabel('Дата события')\n",
    "plt.ylabel('Количество событий');"
   ]
  },
  {
   "cell_type": "markdown",
   "metadata": {},
   "source": [
    "Проверяем, что в данных остались пользователи всех трех экспериментальных групп. "
   ]
  },
  {
   "cell_type": "code",
   "execution_count": 13,
   "metadata": {},
   "outputs": [
    {
     "data": {
      "text/plain": [
       "array([246, 247, 248])"
      ]
     },
     "execution_count": 13,
     "metadata": {},
     "output_type": "execute_result"
    }
   ],
   "source": [
    "data['group'].unique()"
   ]
  },
  {
   "cell_type": "markdown",
   "metadata": {},
   "source": [
    "Итого, в логе доступны полные данные только за 1 неделю проведения эксперимента – с 1 по 7 августа 2019 года. Всего описаны действия 7,5 тысяч пользователей, на каждого из которых приходится в среднем 32 события. В датасете приведены действия пользователей всех трех групп эксперимента."
   ]
  },
  {
   "cell_type": "markdown",
   "metadata": {},
   "source": [
    "## Анализ воронки событий"
   ]
  },
  {
   "cell_type": "markdown",
   "metadata": {},
   "source": [
    "Исследуемых событий всего 5: появление на главном экране (`'MainScreenAppear'`), появление на экране предложений (`'OffersScreenAppear'`), появление экрана корзины (`'CartScreenAppear'`), появление экрана успешной оплаты (`'PaymentScreenSuccessful'`), обучающие материлы (`'Tutorial'`). \n",
    "\n",
    "Посмотрим распределение всех событий по этапам воронки на гистограмме."
   ]
  },
  {
   "cell_type": "code",
   "execution_count": 14,
   "metadata": {},
   "outputs": [
    {
     "data": {
      "image/png": "[encoded data removed]",
      "text/plain": [
       "<Figure size 1200x400 with 1 Axes>"
      ]
     },
     "metadata": {},
     "output_type": "display_data"
    }
   ],
   "source": [
    "data.groupby('event_name')['event_name'].count().sort_values(ascending=False).plot.bar(rot=0, \n",
    "                                                                                    figsize=(12, 4), \n",
    "                                                                                    color='green')\n",
    "plt.title('Частота событий')\n",
    "plt.xlabel('События')\n",
    "plt.ylabel('Количество событий в логе');"
   ]
  },
  {
   "cell_type": "markdown",
   "metadata": {},
   "source": [
    "Чаще всего встречается событие `'MainScreenAppear'`, реже всего – `'Tutorial'`. Вероятно, обучающие материалы не очень популярны у пользователей. Отметим, что частота событий соотвествует логике использования приложения: появление главного экрана, экрана предложений, затем корзины и успешной оплаты следуют друг за другом. Событие `'Tutorial'` не входит в основную цепочку действий пользователя, поэтому в анализе воронки не будем его учитывать.  \n",
    "\n",
    "Посчитаем, сколько уникальных пользователей совершали каждое событие. Найдем долю пользователей, которые хоть раз совершали действие каждого типа, от исходного количества пользователей на каждом этапе."
   ]
  },
  {
   "cell_type": "code",
   "execution_count": 15,
   "metadata": {},
   "outputs": [
    {
     "data": {
      "text/html": [
       "<div>\n",
       "<style scoped>\n",
       "    .dataframe tbody tr th:only-of-type {\n",
       "        vertical-align: middle;\n",
       "    }\n",
       "\n",
       "    .dataframe tbody tr th {\n",
       "        vertical-align: top;\n",
       "    }\n",
       "\n",
       "    .dataframe thead th {\n",
       "        text-align: right;\n",
       "    }\n",
       "</style>\n",
       "<table border=\"1\" class=\"dataframe\">\n",
       "  <thead>\n",
       "    <tr style=\"text-align: right;\">\n",
       "      <th></th>\n",
       "      <th>event_name</th>\n",
       "      <th>unique_users</th>\n",
       "      <th>share</th>\n",
       "      <th>step_share</th>\n",
       "    </tr>\n",
       "  </thead>\n",
       "  <tbody>\n",
       "    <tr>\n",
       "      <th>0</th>\n",
       "      <td>MainScreenAppear</td>\n",
       "      <td>7419</td>\n",
       "      <td>0.98</td>\n",
       "      <td>1.00</td>\n",
       "    </tr>\n",
       "    <tr>\n",
       "      <th>1</th>\n",
       "      <td>OffersScreenAppear</td>\n",
       "      <td>4593</td>\n",
       "      <td>0.61</td>\n",
       "      <td>0.62</td>\n",
       "    </tr>\n",
       "    <tr>\n",
       "      <th>2</th>\n",
       "      <td>CartScreenAppear</td>\n",
       "      <td>3734</td>\n",
       "      <td>0.50</td>\n",
       "      <td>0.81</td>\n",
       "    </tr>\n",
       "    <tr>\n",
       "      <th>3</th>\n",
       "      <td>PaymentScreenSuccessful</td>\n",
       "      <td>3539</td>\n",
       "      <td>0.47</td>\n",
       "      <td>0.95</td>\n",
       "    </tr>\n",
       "  </tbody>\n",
       "</table>\n",
       "</div>"
      ],
      "text/plain": [
       "                event_name  unique_users  share  step_share\n",
       "0         MainScreenAppear          7419   0.98        1.00\n",
       "1       OffersScreenAppear          4593   0.61        0.62\n",
       "2         CartScreenAppear          3734   0.50        0.81\n",
       "3  PaymentScreenSuccessful          3539   0.47        0.95"
      ]
     },
     "execution_count": 15,
     "metadata": {},
     "output_type": "execute_result"
    }
   ],
   "source": [
    "# найдем количество уникальных пользователей на каждом этапе\n",
    "users_share = data[data['event_name'] != 'Tutorial'].pivot_table(index='event_name', \n",
    "                                                                 values='user_id', \n",
    "                                                                 aggfunc='nunique').sort_values(by='user_id', \n",
    "                                                                                                ascending=False)\n",
    "# найдем долю пользователей на каждом этапе от всех уникальных пользователей в логе\n",
    "users_share['share'] = round(users_share['user_id'] / data['user_id'].nunique(), 2)\n",
    "\n",
    "# переименуем столбцы\n",
    "users_share.columns = ['unique_users', 'share']\n",
    "users_share = users_share.reset_index()\n",
    "\n",
    "# рассчитаем долю пользователей на следюущем этапе от количества пользователей на предыдущем\n",
    "users_share['step_share'] = (\n",
    "    (users_share['unique_users'] / users_share['unique_users'].shift(1))\n",
    "    .round(2)\n",
    "    .fillna(1)\n",
    ")\n",
    "users_share"
   ]
  },
  {
   "cell_type": "markdown",
   "metadata": {},
   "source": [
    "Всего почти 7,5 тысяч пользователей хотя бы раз видели главный экран (событие MainScreenAppear). Отметим, что 115 пользователей, данные о которых есть в общем логе, не вошли в воронку. От показа главного экрана к экрану предложений доходит 62% пользователей, от экрана предложений к корзине – 81%, от корзины к успешной оплате – 95%.  "
   ]
  },
  {
   "cell_type": "markdown",
   "metadata": {},
   "source": [
    "```\n",
    "# инициализация plotly для Jupyter Notebook\n",
    "init_notebook_mode(connected=True)\n",
    "\n",
    "# воронка в plotly\n",
    "trace = go.Funnel(y=users_share['event_name'],\n",
    "                 x=users_share['unique_users'],\n",
    "                 textinfo='value+percent initial')\n",
    "\n",
    "layout = go.Layout(title='Воронка событий')\n",
    "fig = go.Figure(data=[trace], layout=layout)\n",
    "\n",
    "fig.show()\n",
    "```"
   ]
  },
  {
   "attachments": {
    "image.png": {
     "image/png": "[encoded data removed]"
    }
   },
   "cell_type": "markdown",
   "metadata": {},
   "source": [
    "![image.png](attachment:image.png)"
   ]
  },
  {
   "cell_type": "markdown",
   "metadata": {},
   "source": [
    "До появления экрана предложений доходят 62% исходного количества пользователей, экрана корзины – 50% и до оплаты доходит 48% пользователей. Наибольшая потеря происходит на пути от главного экрана к экрану с предложениями, как при расчете в долях от исходного количества пользователей, так и по отношению к предыдущему шагу. От первого события (главный экран) до оплаты доходит 47% пользователей."
   ]
  },
  {
   "cell_type": "markdown",
   "metadata": {},
   "source": [
    "## Анализ результатов эксперимента"
   ]
  },
  {
   "cell_type": "markdown",
   "metadata": {},
   "source": [
    "Эксперимент проводился в формате А/А/В-теста, где было две контрольных группы и одна экспериментальная с новым шрифтом. \n",
    "Проверим, нет ли пользователей, которые попали в больше чем одну группу."
   ]
  },
  {
   "cell_type": "code",
   "execution_count": 16,
   "metadata": {},
   "outputs": [
    {
     "name": "stdout",
     "output_type": "stream",
     "text": [
      "Empty DataFrame\n",
      "Columns: [group]\n",
      "Index: []\n"
     ]
    }
   ],
   "source": [
    "print(\n",
    "    data.groupby('user_id')\n",
    "        .agg({'group' : 'nunique'})\n",
    "        .query('group>1')\n",
    ")"
   ]
  },
  {
   "cell_type": "markdown",
   "metadata": {},
   "source": [
    "Группы не пересекаются по пользователям. "
   ]
  },
  {
   "cell_type": "markdown",
   "metadata": {},
   "source": [
    "### Сравнение А/А-групп"
   ]
  },
  {
   "cell_type": "markdown",
   "metadata": {},
   "source": [
    "Проверим, есть ли статистическая разница между контрольными выборками 246 и 247 (сравним доли уникальных пользователей в каждой из групп относительно общего количества уникальных пользователей в логе). \n",
    "\n",
    "Перед проведением статистического теста соберем все необходимые данные. Создадим сводную таблицу `tot_users` с общим количеством уникальных пользователей по группам. "
   ]
  },
  {
   "cell_type": "code",
   "execution_count": 17,
   "metadata": {
    "scrolled": true
   },
   "outputs": [
    {
     "data": {
      "text/html": [
       "<div>\n",
       "<style scoped>\n",
       "    .dataframe tbody tr th:only-of-type {\n",
       "        vertical-align: middle;\n",
       "    }\n",
       "\n",
       "    .dataframe tbody tr th {\n",
       "        vertical-align: top;\n",
       "    }\n",
       "\n",
       "    .dataframe thead th {\n",
       "        text-align: right;\n",
       "    }\n",
       "</style>\n",
       "<table border=\"1\" class=\"dataframe\">\n",
       "  <thead>\n",
       "    <tr style=\"text-align: right;\">\n",
       "      <th></th>\n",
       "      <th>246</th>\n",
       "      <th>247</th>\n",
       "      <th>248</th>\n",
       "      <th>246+247</th>\n",
       "      <th>tot</th>\n",
       "    </tr>\n",
       "  </thead>\n",
       "  <tbody>\n",
       "    <tr>\n",
       "      <th>user_id</th>\n",
       "      <td>2483</td>\n",
       "      <td>2512</td>\n",
       "      <td>2535</td>\n",
       "      <td>4995</td>\n",
       "      <td>7530</td>\n",
       "    </tr>\n",
       "  </tbody>\n",
       "</table>\n",
       "</div>"
      ],
      "text/plain": [
       "          246   247   248  246+247   tot\n",
       "user_id  2483  2512  2535     4995  7530"
      ]
     },
     "execution_count": 17,
     "metadata": {},
     "output_type": "execute_result"
    }
   ],
   "source": [
    "# из анализа исключаем событие Tutorial\n",
    "tot_users = data[data['event_name'] != 'Tutorial'].pivot_table(columns='group', \n",
    "                                                            aggfunc={'user_id' : 'nunique'})\n",
    "tot_users.columns = ['246', '247', '248']\n",
    "\n",
    "# создаем объединенную контрольную группу\n",
    "tot_users['246+247'] = tot_users['246'] + tot_users['247']\n",
    "\n",
    "# добавляем общее количество уникальных пользователей во всем логе\n",
    "tot_users['tot'] = data[data['event_name'] != 'Tutorial']['user_id'].nunique()\n",
    "\n",
    "tot_users"
   ]
  },
  {
   "cell_type": "markdown",
   "metadata": {},
   "source": [
    "И сводную таблицу `tot_users_by_step` с количеством уникальных пользователей на каждом этапе воронки (кроме Tutorial). "
   ]
  },
  {
   "cell_type": "code",
   "execution_count": 18,
   "metadata": {},
   "outputs": [
    {
     "data": {
      "text/html": [
       "<div>\n",
       "<style scoped>\n",
       "    .dataframe tbody tr th:only-of-type {\n",
       "        vertical-align: middle;\n",
       "    }\n",
       "\n",
       "    .dataframe tbody tr th {\n",
       "        vertical-align: top;\n",
       "    }\n",
       "\n",
       "    .dataframe thead th {\n",
       "        text-align: right;\n",
       "    }\n",
       "</style>\n",
       "<table border=\"1\" class=\"dataframe\">\n",
       "  <thead>\n",
       "    <tr style=\"text-align: right;\">\n",
       "      <th></th>\n",
       "      <th>event_name</th>\n",
       "      <th>246</th>\n",
       "      <th>247</th>\n",
       "      <th>248</th>\n",
       "      <th>246+247</th>\n",
       "    </tr>\n",
       "  </thead>\n",
       "  <tbody>\n",
       "    <tr>\n",
       "      <th>1</th>\n",
       "      <td>MainScreenAppear</td>\n",
       "      <td>2450</td>\n",
       "      <td>2476</td>\n",
       "      <td>2493</td>\n",
       "      <td>4926</td>\n",
       "    </tr>\n",
       "    <tr>\n",
       "      <th>2</th>\n",
       "      <td>OffersScreenAppear</td>\n",
       "      <td>1542</td>\n",
       "      <td>1520</td>\n",
       "      <td>1531</td>\n",
       "      <td>3062</td>\n",
       "    </tr>\n",
       "    <tr>\n",
       "      <th>0</th>\n",
       "      <td>CartScreenAppear</td>\n",
       "      <td>1266</td>\n",
       "      <td>1238</td>\n",
       "      <td>1230</td>\n",
       "      <td>2504</td>\n",
       "    </tr>\n",
       "    <tr>\n",
       "      <th>3</th>\n",
       "      <td>PaymentScreenSuccessful</td>\n",
       "      <td>1200</td>\n",
       "      <td>1158</td>\n",
       "      <td>1181</td>\n",
       "      <td>2358</td>\n",
       "    </tr>\n",
       "  </tbody>\n",
       "</table>\n",
       "</div>"
      ],
      "text/plain": [
       "                event_name   246   247   248  246+247\n",
       "1         MainScreenAppear  2450  2476  2493     4926\n",
       "2       OffersScreenAppear  1542  1520  1531     3062\n",
       "0         CartScreenAppear  1266  1238  1230     2504\n",
       "3  PaymentScreenSuccessful  1200  1158  1181     2358"
      ]
     },
     "execution_count": 18,
     "metadata": {},
     "output_type": "execute_result"
    }
   ],
   "source": [
    "# из анализа исключаем событие Tutorial\n",
    "tot_users_by_step = data[data['event_name'] != 'Tutorial'].pivot_table(index='event_name', \n",
    "                                                             columns='group', \n",
    "                                                             aggfunc={'user_id' : 'nunique'}).reset_index()\n",
    "\n",
    "# переименуем столбцы\n",
    "tot_users_by_step.columns = ['event_name', '246', '247', '248']\n",
    "\n",
    "# создаем объединенную контрольную группу\n",
    "tot_users_by_step['246+247'] = tot_users_by_step['246'] + tot_users_by_step['247']\n",
    "\n",
    "tot_users_by_step = tot_users_by_step.sort_values(by='246', ascending=False)\n",
    "tot_users_by_step"
   ]
  },
  {
   "cell_type": "markdown",
   "metadata": {},
   "source": [
    "За **нулевую гипотезу** принимаем утверждение о том, что пропорции пользователей (конверсия) для каждого события в экспериментальных группах равны друг другу (не имеют статистически значимых различий). \n",
    "\n",
    "**Альтернативная гипотеза** состоит в том, что группы значимо различаются (в большую или меньшую сторону). Так как тест двусторонний, удваиваем p_value.\n",
    "\n",
    "Для статистического анализа экспериментальных групп по событиям напишем функцию для проведения z-теста. Аргументами функции являются: общее количество пользователей в каждой из двух сравниваемых групп (`trial_1` и `trial_2`), количество пользователей на этапе воронки в каждой из двух групп (`succ_1` и `succ_2`), а также p-value (по умолчанию задан 0.01). "
   ]
  },
  {
   "cell_type": "code",
   "execution_count": 19,
   "metadata": {},
   "outputs": [],
   "source": [
    "# функция проводит статистический тест на равенство пропорций в двух наборах данных (группах)\n",
    "def z_test(trial_1, trial_2, succ_1, succ_2, alpha=.01):\n",
    "    \n",
    "    p1 = succ_1/trial_1 # пропорция успехов в первой группе\n",
    "    p2 = succ_2/trial_2 # пропорция успехов во второй группе\n",
    "    \n",
    "    p_combined = (succ_1 + succ_2) / (trial_1 + trial_2) # пропорция успехов в комбинированном датасете\n",
    "        \n",
    "    difference = p1 - p2 # разница пропорций в датасетах\n",
    "    \n",
    "    # считаем статистику в ст.отклонениях стандартного нормального распределения\n",
    "    z_value = difference / mth.sqrt(p_combined * (1 - p_combined) * (1/trial_1 + 1/trial_2)) \n",
    "    distr = stats.norm(0, 1) # задаем стандартное нормальное распределение (среднее 0, ст.отклонение 1)\n",
    "    p_value = (1 - distr.cdf(abs(z_value))) * 2\n",
    "        \n",
    "    print('p-значение: ', p_value)\n",
    "    \n",
    "    # определяем, есть ли статистическая значимость в результате сравнения\n",
    "    if p_value < alpha:\n",
    "        print('Отвергаем нулевую гипотезу: между долями есть значимая разница')\n",
    "    else:\n",
    "        print(\n",
    "                 'Не получилось отвергнуть нулевую гипотезу, нет оснований считать доли разными'\n",
    "             )\n",
    "    print()"
   ]
  },
  {
   "cell_type": "markdown",
   "metadata": {},
   "source": [
    "Также создадим отдельную функцию, которая \"пройдется\" по всем этапам (`event`) воронки в нашей таблице `tot_users_by_step` и выведет для них результат сравнения долей в двух группах (в функции они задаются как аргументы `group1` и `group2`). "
   ]
  },
  {
   "cell_type": "code",
   "execution_count": 20,
   "metadata": {},
   "outputs": [],
   "source": [
    "# функция проводит z-тест для всех событий в воронке для двух наборов данных (групп)\n",
    "def data_for_z_test(trials, success, group1, group2, alpha=.01):\n",
    "    for event in success['event_name']:\n",
    "        print(event)\n",
    "        succ_1 = success.loc[success['event_name'] == event, group1]\n",
    "        succ_2 = success.loc[success['event_name'] == event, group2]\n",
    "        \n",
    "        trial_1 = trials[group1][0]\n",
    "        trial_2 = trials[group2][0]\n",
    "        \n",
    "        \n",
    "        z_test(trial_1, trial_2, succ_1, succ_2, alpha) "
   ]
  },
  {
   "cell_type": "markdown",
   "metadata": {},
   "source": [
    "Сравним доли пользователей на каждом этапе в контрольных группах `246` и `247`. "
   ]
  },
  {
   "cell_type": "code",
   "execution_count": 21,
   "metadata": {},
   "outputs": [
    {
     "name": "stdout",
     "output_type": "stream",
     "text": [
      "MainScreenAppear\n",
      "p-значение:  [0.75267034]\n",
      "Не получилось отвергнуть нулевую гипотезу, нет оснований считать доли разными\n",
      "\n",
      "OffersScreenAppear\n",
      "p-значение:  [0.24786097]\n",
      "Не получилось отвергнуть нулевую гипотезу, нет оснований считать доли разными\n",
      "\n",
      "CartScreenAppear\n",
      "p-значение:  [0.22867644]\n",
      "Не получилось отвергнуть нулевую гипотезу, нет оснований считать доли разными\n",
      "\n",
      "PaymentScreenSuccessful\n",
      "p-значение:  [0.11446628]\n",
      "Не получилось отвергнуть нулевую гипотезу, нет оснований считать доли разными\n",
      "\n",
      "None\n"
     ]
    }
   ],
   "source": [
    "print(\n",
    "        data_for_z_test(tot_users, tot_users_by_step, '246', '247')\n",
    ")"
   ]
  },
  {
   "cell_type": "markdown",
   "metadata": {},
   "source": [
    "В долях пользователей, совершивших каждое событие, в контрольных группах `246` и `247` не было обнаружено статистически значимого различия."
   ]
  },
  {
   "cell_type": "markdown",
   "metadata": {},
   "source": [
    "### Сравнение экспериментальных групп "
   ]
  },
  {
   "cell_type": "markdown",
   "metadata": {},
   "source": [
    "Сравним экспериментальную группу `248` с каждой из контрольных."
   ]
  },
  {
   "cell_type": "code",
   "execution_count": 22,
   "metadata": {
    "scrolled": true
   },
   "outputs": [
    {
     "name": "stdout",
     "output_type": "stream",
     "text": [
      "MainScreenAppear\n",
      "p-значение:  [0.33871141]\n",
      "Не получилось отвергнуть нулевую гипотезу, нет оснований считать доли разными\n",
      "\n",
      "OffersScreenAppear\n",
      "p-значение:  [0.21442477]\n",
      "Не получилось отвергнуть нулевую гипотезу, нет оснований считать доли разными\n",
      "\n",
      "CartScreenAppear\n",
      "p-значение:  [0.08067368]\n",
      "Не получилось отвергнуть нулевую гипотезу, нет оснований считать доли разными\n",
      "\n",
      "PaymentScreenSuccessful\n",
      "p-значение:  [0.21693034]\n",
      "Не получилось отвергнуть нулевую гипотезу, нет оснований считать доли разными\n",
      "\n",
      "None\n"
     ]
    }
   ],
   "source": [
    "print(\n",
    "        data_for_z_test(tot_users, tot_users_by_step, '246', '248')\n",
    ")"
   ]
  },
  {
   "cell_type": "code",
   "execution_count": 23,
   "metadata": {},
   "outputs": [
    {
     "name": "stdout",
     "output_type": "stream",
     "text": [
      "MainScreenAppear\n",
      "p-значение:  [0.51949644]\n",
      "Не получилось отвергнуть нулевую гипотезу, нет оснований считать доли разными\n",
      "\n",
      "OffersScreenAppear\n",
      "p-значение:  [0.93337513]\n",
      "Не получилось отвергнуть нулевую гипотезу, нет оснований считать доли разными\n",
      "\n",
      "CartScreenAppear\n",
      "p-значение:  [0.58782846]\n",
      "Не получилось отвергнуть нулевую гипотезу, нет оснований считать доли разными\n",
      "\n",
      "PaymentScreenSuccessful\n",
      "p-значение:  [0.72757187]\n",
      "Не получилось отвергнуть нулевую гипотезу, нет оснований считать доли разными\n",
      "\n",
      "None\n"
     ]
    }
   ],
   "source": [
    "print(\n",
    "        data_for_z_test(tot_users, tot_users_by_step, '247', '248')\n",
    ")"
   ]
  },
  {
   "cell_type": "markdown",
   "metadata": {},
   "source": [
    "Не обнаружено статистически значимых различий экспериментальной группы с контрольными группами. \n",
    "\n",
    "Теперь сравним экспериментальную группу `248` с объединенной контрольной группой `246+247`. "
   ]
  },
  {
   "cell_type": "code",
   "execution_count": 24,
   "metadata": {
    "scrolled": true
   },
   "outputs": [
    {
     "name": "stdout",
     "output_type": "stream",
     "text": [
      "MainScreenAppear\n",
      "p-значение:  [0.34866843]\n",
      "Не получилось отвергнуть нулевую гипотезу, нет оснований считать доли разными\n",
      "\n",
      "OffersScreenAppear\n",
      "p-значение:  [0.44582745]\n",
      "Не получилось отвергнуть нулевую гипотезу, нет оснований считать доли разными\n",
      "\n",
      "CartScreenAppear\n",
      "p-значение:  [0.18683559]\n",
      "Не получилось отвергнуть нулевую гипотезу, нет оснований считать доли разными\n",
      "\n",
      "PaymentScreenSuccessful\n",
      "p-значение:  [0.61079187]\n",
      "Не получилось отвергнуть нулевую гипотезу, нет оснований считать доли разными\n",
      "\n",
      "None\n"
     ]
    }
   ],
   "source": [
    "print(\n",
    "        data_for_z_test(tot_users, tot_users_by_step, '246+247', '248')\n",
    ")"
   ]
  },
  {
   "cell_type": "markdown",
   "metadata": {},
   "source": [
    "Таким образом, во-первых, было показано, что контрольные группы А/А не различаются. Во-вторых, группа с измененными шрифтами не отличается от контрольных по результатам проверки гипотезы о равенстве долей методом z-теста. \n",
    "\n",
    "При проверке статистических гипотез был выбран уровень значимости 0.01, что позволяет снизить вероятность получить ошибку первого рода (или иначе – ложнопозитивный результат), то есть получить статистически значимое различие там, где его на самом деле нет. Так как в исследовании проводится множественное сравнение (сравниваем результаты групп А, А и В + объединенная группа А+А), то увеличение уровня значимости до 0.05 уже значительно увеличит получить ошибку первого рода, так как вероятность ошибиться в случае множественных сравнений находится по формуле 1 – (1-alpha) ^ k, где k – число сравниваемых экспериментов (так, при значении alpha = 0.05 при сравнении 4-х экспериментов вероятность хотя бы одного ложнопозитивного результата уже примерно 18.55%). Поэтому в данном случае, без применения поправок вроде поправки Бонферрони, значение alpha = 0.01 является наиболее оптимальным вариантом для расчета.   "
   ]
  },
  {
   "cell_type": "markdown",
   "metadata": {},
   "source": [
    "## Вывод"
   ]
  },
  {
   "cell_type": "markdown",
   "metadata": {},
   "source": [
    "Было проведено исследование данных о действиях пользователей в мобильном приложении за одну неделю с 1 по 7 августа 2019 (за этот период доступны наиболее полные данные). В датафрейме присутствуют записи о примерно 240 тысячах событий. Уникальных пользователей  7,5 тысячи, следовательно, на каждого приходится в среднем 32 события. \n",
    "\n",
    "Исследуемых событий всего 5: появление главного экрана ('MainScreenAppear'), появление на экране предложений ('OffersScreenAppear'), появление экрана корзины ('CartScreenAppear'), появление экрана успешной оплаты ('PaymentScreenSuccessful'), обучающие материлы ('Tutorial'). Все события, кроме tutorial (которое не учитываем в дальнейшем анализе), встраиваются в последовательную цепочку действий пользователя. \n",
    "\n",
    "Самое частое событие – появление главного экрана (117 тысяч раз). График воронки событий показал, что до следующего этапа (показ предложений) доходит лишь 62% уникальных пользователей, это наименьшая конверсия по сравнению со всеми остальными доступными событиями. От показа предоложений до экрана корзины доходит 50% от исходного количества уникальных пользователей или 81% от предыдущего шага. До оформления заказа (экран успешной оплаты) доходит 48% пользователей от исходного количества или 95% от пользователей на предыдущем шаге. Таким образом, 48% от всех пользователей приложения оплачивает в нем заказ. \n",
    "\n",
    "Для дальнейшего развития стартапа имеет смысл попытаться увеличить конверсию пользователей в заказ на самом первом этапе – от показа главного экрана. Возможно, решением может быть добавление на экран специальных предложений, товаров со скидками, \"избранных\" товаров, добавление промокодов на первый и последующий заказы. \n",
    "\n",
    "Проведение А/А/В-теста не показало статистически значимую разницу между долями пользователей на каждом шаге воронки. То есть разница в конверсии пользователей в приложении со старыми шрифтами по сравнению с версией с новыми шрифтами отсутствует. Следовательно, дополнительная работа по обновлению шрифтов не повлияет на конверсию пользователей в клиентов в приложении. "
   ]
  },
  {
   "cell_type": "code",
   "execution_count": null,
   "metadata": {},
   "outputs": [],
   "source": []
  }
 ],
 "metadata": {
  "ExecuteTimeLog": [
   {
    "duration": 1251,
    "start_time": "2023-05-28T16:48:18.988Z"
   },
   {
    "duration": 579,
    "start_time": "2023-05-28T16:48:20.251Z"
   },
   {
    "duration": 55,
    "start_time": "2023-05-28T16:48:20.833Z"
   },
   {
    "duration": 17,
    "start_time": "2023-05-28T16:48:20.897Z"
   },
   {
    "duration": 181,
    "start_time": "2023-05-28T16:48:20.917Z"
   },
   {
    "duration": 12,
    "start_time": "2023-05-28T16:48:21.100Z"
   },
   {
    "duration": 8,
    "start_time": "2023-05-28T16:48:21.114Z"
   },
   {
    "duration": 321,
    "start_time": "2023-05-28T16:48:21.124Z"
   },
   {
    "duration": 236,
    "start_time": "2023-05-28T16:48:21.446Z"
   },
   {
    "duration": 4,
    "start_time": "2023-05-28T16:48:21.685Z"
   },
   {
    "duration": 8,
    "start_time": "2023-05-28T16:48:21.691Z"
   },
   {
    "duration": 256,
    "start_time": "2023-05-28T16:48:21.701Z"
   },
   {
    "duration": 111,
    "start_time": "2023-05-28T16:48:21.959Z"
   },
   {
    "duration": 325,
    "start_time": "2023-05-28T16:48:22.072Z"
   },
   {
    "duration": 28,
    "start_time": "2023-05-28T16:48:22.399Z"
   },
   {
    "duration": 91,
    "start_time": "2023-05-28T16:48:22.429Z"
   },
   {
    "duration": 107,
    "start_time": "2023-05-28T16:48:22.522Z"
   },
   {
    "duration": 24,
    "start_time": "2023-05-28T16:48:22.642Z"
   },
   {
    "duration": 17,
    "start_time": "2023-05-28T16:48:22.668Z"
   },
   {
    "duration": 30,
    "start_time": "2023-05-28T16:48:22.687Z"
   },
   {
    "duration": 26,
    "start_time": "2023-05-28T16:48:22.718Z"
   },
   {
    "duration": 37,
    "start_time": "2023-05-28T16:48:22.745Z"
   },
   {
    "duration": 23,
    "start_time": "2023-05-28T16:48:22.784Z"
   },
   {
    "duration": 7,
    "start_time": "2023-05-28T16:59:21.108Z"
   },
   {
    "duration": 51,
    "start_time": "2023-05-29T08:25:58.568Z"
   },
   {
    "duration": 1266,
    "start_time": "2023-05-29T08:26:04.656Z"
   },
   {
    "duration": 511,
    "start_time": "2023-05-29T08:26:05.924Z"
   },
   {
    "duration": 24,
    "start_time": "2023-05-29T08:26:06.437Z"
   },
   {
    "duration": 9,
    "start_time": "2023-05-29T08:26:06.463Z"
   },
   {
    "duration": 115,
    "start_time": "2023-05-29T08:26:06.474Z"
   },
   {
    "duration": 109,
    "start_time": "2023-05-29T08:26:08.964Z"
   },
   {
    "duration": 67,
    "start_time": "2023-05-29T08:26:09.952Z"
   },
   {
    "duration": 163,
    "start_time": "2023-05-29T08:27:02.382Z"
   },
   {
    "duration": 130,
    "start_time": "2023-05-29T08:27:25.913Z"
   },
   {
    "duration": 139,
    "start_time": "2023-05-29T08:27:37.956Z"
   },
   {
    "duration": 3,
    "start_time": "2023-05-29T08:28:13.520Z"
   },
   {
    "duration": 474,
    "start_time": "2023-05-29T08:28:13.525Z"
   },
   {
    "duration": 21,
    "start_time": "2023-05-29T08:28:14.000Z"
   },
   {
    "duration": 4,
    "start_time": "2023-05-29T08:28:14.022Z"
   },
   {
    "duration": 118,
    "start_time": "2023-05-29T08:28:14.027Z"
   },
   {
    "duration": 132,
    "start_time": "2023-05-29T08:28:14.146Z"
   },
   {
    "duration": 461,
    "start_time": "2023-05-29T08:30:18.955Z"
   },
   {
    "duration": 223,
    "start_time": "2023-05-29T08:30:33.816Z"
   },
   {
    "duration": 169,
    "start_time": "2023-05-29T08:31:19.791Z"
   },
   {
    "duration": 133,
    "start_time": "2023-05-29T08:31:54.482Z"
   },
   {
    "duration": 150,
    "start_time": "2023-05-29T08:32:09.752Z"
   },
   {
    "duration": 2272,
    "start_time": "2023-05-29T08:33:52.057Z"
   },
   {
    "duration": 184,
    "start_time": "2023-05-29T08:34:14.482Z"
   },
   {
    "duration": 171,
    "start_time": "2023-05-29T08:34:26.242Z"
   },
   {
    "duration": 277,
    "start_time": "2023-05-29T08:36:11.202Z"
   },
   {
    "duration": 167,
    "start_time": "2023-05-29T08:36:23.986Z"
   },
   {
    "duration": 10,
    "start_time": "2023-05-29T08:37:13.310Z"
   },
   {
    "duration": 1048,
    "start_time": "2023-05-29T08:39:06.579Z"
   },
   {
    "duration": 578,
    "start_time": "2023-05-29T08:39:07.629Z"
   },
   {
    "duration": 25,
    "start_time": "2023-05-29T08:39:08.209Z"
   },
   {
    "duration": 9,
    "start_time": "2023-05-29T08:39:08.236Z"
   },
   {
    "duration": 129,
    "start_time": "2023-05-29T08:39:08.247Z"
   },
   {
    "duration": 169,
    "start_time": "2023-05-29T08:39:08.377Z"
   },
   {
    "duration": 7,
    "start_time": "2023-05-29T08:39:08.547Z"
   },
   {
    "duration": 7,
    "start_time": "2023-05-29T08:39:08.556Z"
   },
   {
    "duration": 253,
    "start_time": "2023-05-29T08:39:08.564Z"
   },
   {
    "duration": 176,
    "start_time": "2023-05-29T08:39:08.818Z"
   },
   {
    "duration": 3,
    "start_time": "2023-05-29T08:39:08.995Z"
   },
   {
    "duration": 16,
    "start_time": "2023-05-29T08:39:09.000Z"
   },
   {
    "duration": 183,
    "start_time": "2023-05-29T08:39:09.017Z"
   },
   {
    "duration": 90,
    "start_time": "2023-05-29T08:39:09.202Z"
   },
   {
    "duration": 87,
    "start_time": "2023-05-29T08:39:09.294Z"
   },
   {
    "duration": 22,
    "start_time": "2023-05-29T08:39:09.383Z"
   },
   {
    "duration": 73,
    "start_time": "2023-05-29T08:39:09.406Z"
   },
   {
    "duration": 91,
    "start_time": "2023-05-29T08:39:09.480Z"
   },
   {
    "duration": 8,
    "start_time": "2023-05-29T08:39:09.573Z"
   },
   {
    "duration": 11,
    "start_time": "2023-05-29T08:39:09.583Z"
   },
   {
    "duration": 26,
    "start_time": "2023-05-29T08:39:09.596Z"
   },
   {
    "duration": 18,
    "start_time": "2023-05-29T08:39:09.623Z"
   },
   {
    "duration": 18,
    "start_time": "2023-05-29T08:39:09.643Z"
   },
   {
    "duration": 16,
    "start_time": "2023-05-29T08:39:09.662Z"
   },
   {
    "duration": 153,
    "start_time": "2023-05-29T08:40:39.390Z"
   },
   {
    "duration": 168,
    "start_time": "2023-05-29T08:41:25.138Z"
   },
   {
    "duration": 1443,
    "start_time": "2023-05-31T07:01:23.374Z"
   },
   {
    "duration": 506,
    "start_time": "2023-05-31T07:01:24.820Z"
   },
   {
    "duration": 33,
    "start_time": "2023-05-31T07:01:25.328Z"
   },
   {
    "duration": 10,
    "start_time": "2023-05-31T07:01:25.363Z"
   },
   {
    "duration": 150,
    "start_time": "2023-05-31T07:01:25.376Z"
   },
   {
    "duration": 207,
    "start_time": "2023-05-31T07:01:25.527Z"
   },
   {
    "duration": 8,
    "start_time": "2023-05-31T07:01:25.741Z"
   },
   {
    "duration": 7,
    "start_time": "2023-05-31T07:01:25.751Z"
   },
   {
    "duration": 137,
    "start_time": "2023-05-31T07:01:25.760Z"
   },
   {
    "duration": 0,
    "start_time": "2023-05-31T07:01:25.899Z"
   },
   {
    "duration": 0,
    "start_time": "2023-05-31T07:01:25.900Z"
   },
   {
    "duration": 0,
    "start_time": "2023-05-31T07:01:25.902Z"
   },
   {
    "duration": 0,
    "start_time": "2023-05-31T07:01:25.903Z"
   },
   {
    "duration": 0,
    "start_time": "2023-05-31T07:01:25.904Z"
   },
   {
    "duration": 0,
    "start_time": "2023-05-31T07:01:25.905Z"
   },
   {
    "duration": 0,
    "start_time": "2023-05-31T07:01:25.906Z"
   },
   {
    "duration": 0,
    "start_time": "2023-05-31T07:01:25.907Z"
   },
   {
    "duration": 0,
    "start_time": "2023-05-31T07:01:25.908Z"
   },
   {
    "duration": 0,
    "start_time": "2023-05-31T07:01:25.909Z"
   },
   {
    "duration": 0,
    "start_time": "2023-05-31T07:01:25.910Z"
   },
   {
    "duration": 0,
    "start_time": "2023-05-31T07:01:25.912Z"
   },
   {
    "duration": 0,
    "start_time": "2023-05-31T07:01:25.913Z"
   },
   {
    "duration": 0,
    "start_time": "2023-05-31T07:01:25.914Z"
   },
   {
    "duration": 0,
    "start_time": "2023-05-31T07:01:25.915Z"
   },
   {
    "duration": 0,
    "start_time": "2023-05-31T07:01:25.916Z"
   },
   {
    "duration": 0,
    "start_time": "2023-05-31T07:01:25.917Z"
   },
   {
    "duration": 0,
    "start_time": "2023-05-31T07:01:25.918Z"
   },
   {
    "duration": 0,
    "start_time": "2023-05-31T07:01:25.919Z"
   },
   {
    "duration": 0,
    "start_time": "2023-05-31T07:01:25.920Z"
   },
   {
    "duration": 0,
    "start_time": "2023-05-31T07:01:25.921Z"
   },
   {
    "duration": 1201,
    "start_time": "2023-05-31T07:01:56.735Z"
   },
   {
    "duration": 385,
    "start_time": "2023-05-31T07:01:57.938Z"
   },
   {
    "duration": 42,
    "start_time": "2023-05-31T07:01:58.325Z"
   },
   {
    "duration": 11,
    "start_time": "2023-05-31T07:01:58.369Z"
   },
   {
    "duration": 171,
    "start_time": "2023-05-31T07:01:58.383Z"
   },
   {
    "duration": 233,
    "start_time": "2023-05-31T07:01:58.556Z"
   },
   {
    "duration": 9,
    "start_time": "2023-05-31T07:01:58.792Z"
   },
   {
    "duration": 13,
    "start_time": "2023-05-31T07:01:58.803Z"
   },
   {
    "duration": 43,
    "start_time": "2023-05-31T07:01:58.818Z"
   },
   {
    "duration": 238,
    "start_time": "2023-05-31T07:01:58.864Z"
   },
   {
    "duration": 323,
    "start_time": "2023-05-31T07:01:59.104Z"
   },
   {
    "duration": 43,
    "start_time": "2023-05-31T07:01:59.430Z"
   },
   {
    "duration": 250,
    "start_time": "2023-05-31T07:01:59.475Z"
   },
   {
    "duration": 6,
    "start_time": "2023-05-31T07:01:59.741Z"
   },
   {
    "duration": 177,
    "start_time": "2023-05-31T07:01:59.749Z"
   },
   {
    "duration": 117,
    "start_time": "2023-05-31T07:01:59.928Z"
   },
   {
    "duration": 99,
    "start_time": "2023-05-31T07:02:00.047Z"
   },
   {
    "duration": 41,
    "start_time": "2023-05-31T07:02:00.148Z"
   },
   {
    "duration": 108,
    "start_time": "2023-05-31T07:02:00.191Z"
   },
   {
    "duration": 107,
    "start_time": "2023-05-31T07:02:00.301Z"
   },
   {
    "duration": 7,
    "start_time": "2023-05-31T07:02:00.410Z"
   },
   {
    "duration": 54,
    "start_time": "2023-05-31T07:02:00.418Z"
   },
   {
    "duration": 38,
    "start_time": "2023-05-31T07:02:00.474Z"
   },
   {
    "duration": 290,
    "start_time": "2023-05-31T07:02:00.514Z"
   },
   {
    "duration": 258,
    "start_time": "2023-05-31T07:02:00.805Z"
   },
   {
    "duration": 257,
    "start_time": "2023-05-31T07:02:01.065Z"
   },
   {
    "duration": 35,
    "start_time": "2023-05-31T07:02:01.324Z"
   },
   {
    "duration": 112,
    "start_time": "2023-05-31T07:02:01.361Z"
   },
   {
    "duration": 76,
    "start_time": "2023-05-31T07:02:01.475Z"
   },
   {
    "duration": 43,
    "start_time": "2023-05-31T07:02:01.553Z"
   },
   {
    "duration": 150,
    "start_time": "2023-05-31T07:02:12.298Z"
   },
   {
    "duration": 31,
    "start_time": "2023-05-31T07:02:24.822Z"
   },
   {
    "duration": 24,
    "start_time": "2023-05-31T07:02:39.271Z"
   },
   {
    "duration": 175,
    "start_time": "2023-05-31T07:02:52.457Z"
   },
   {
    "duration": 24,
    "start_time": "2023-05-31T07:03:09.108Z"
   },
   {
    "duration": 22,
    "start_time": "2023-05-31T07:03:27.621Z"
   },
   {
    "duration": 141,
    "start_time": "2023-05-31T07:03:50.783Z"
   },
   {
    "duration": 20,
    "start_time": "2023-05-31T07:04:10.973Z"
   },
   {
    "duration": 29,
    "start_time": "2023-05-31T07:09:18.385Z"
   },
   {
    "duration": 20,
    "start_time": "2023-05-31T07:12:39.218Z"
   },
   {
    "duration": 20,
    "start_time": "2023-05-31T07:12:42.274Z"
   },
   {
    "duration": 24,
    "start_time": "2023-05-31T07:14:12.651Z"
   },
   {
    "duration": 22,
    "start_time": "2023-05-31T07:14:55.549Z"
   },
   {
    "duration": 492,
    "start_time": "2023-05-31T07:15:36.728Z"
   },
   {
    "duration": 3241,
    "start_time": "2023-05-31T07:16:13.799Z"
   },
   {
    "duration": 17,
    "start_time": "2023-05-31T07:16:39.863Z"
   },
   {
    "duration": 22,
    "start_time": "2023-05-31T07:16:45.590Z"
   },
   {
    "duration": 24,
    "start_time": "2023-05-31T07:16:48.765Z"
   },
   {
    "duration": 17,
    "start_time": "2023-05-31T07:16:51.425Z"
   },
   {
    "duration": 32,
    "start_time": "2023-05-31T07:16:56.364Z"
   },
   {
    "duration": 19,
    "start_time": "2023-05-31T07:17:00.179Z"
   },
   {
    "duration": 102,
    "start_time": "2023-05-31T07:17:06.753Z"
   },
   {
    "duration": 26,
    "start_time": "2023-05-31T07:17:10.099Z"
   },
   {
    "duration": 19,
    "start_time": "2023-05-31T07:17:16.554Z"
   },
   {
    "duration": 17,
    "start_time": "2023-05-31T07:17:22.031Z"
   },
   {
    "duration": 17,
    "start_time": "2023-05-31T07:17:25.576Z"
   },
   {
    "duration": 19,
    "start_time": "2023-05-31T07:17:37.353Z"
   },
   {
    "duration": 17,
    "start_time": "2023-05-31T07:17:46.965Z"
   },
   {
    "duration": 23,
    "start_time": "2023-05-31T07:17:58.924Z"
   },
   {
    "duration": 27,
    "start_time": "2023-05-31T07:18:14.125Z"
   },
   {
    "duration": 18,
    "start_time": "2023-05-31T07:18:21.289Z"
   }
  ],
  "kernelspec": {
   "display_name": "Python 3 (ipykernel)",
   "language": "python",
   "name": "python3"
  },
  "language_info": {
   "codemirror_mode": {
    "name": "ipython",
    "version": 3
   },
   "file_extension": ".py",
   "mimetype": "text/x-python",
   "name": "python",
   "nbconvert_exporter": "python",
   "pygments_lexer": "ipython3",
   "version": "3.9.15"
  },
  "toc": {
   "base_numbering": 1,
   "nav_menu": {},
   "number_sections": false,
   "sideBar": true,
   "skip_h1_title": true,
   "title_cell": "Содержание",
   "title_sidebar": "Contents",
   "toc_cell": true,
   "toc_position": {
    "height": "calc(100% - 180px)",
    "left": "10px",
    "top": "150px",
    "width": "237.172px"
   },
   "toc_section_display": true,
   "toc_window_display": true
  }
 },
 "nbformat": 4,
 "nbformat_minor": 2
}
